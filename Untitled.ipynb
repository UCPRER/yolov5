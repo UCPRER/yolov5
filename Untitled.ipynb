{
 "cells": [
  {
   "cell_type": "code",
   "execution_count": 1,
   "id": "46f46504",
   "metadata": {},
   "outputs": [
    {
     "data": {
      "text/plain": [
       "'000000522365.jpg'"
      ]
     },
     "execution_count": 1,
     "metadata": {},
     "output_type": "execute_result"
    }
   ],
   "source": [
    "from pathlib import Path\n",
    "\n",
    "Path(' /home/ucprer/datasets/coco/images/train2017/000000522365.jpg')"
   ]
  },
  {
   "cell_type": "code",
   "execution_count": null,
   "id": "5bd2bdaf",
   "metadata": {},
   "outputs": [],
   "source": [
    "python runtrain.py \\\n",
    "    --train-list='/home/ucprer/datasets/coco/train.txt' \\\n",
    "    --val-list=\"/home/ucprer/datasets/coco/val.txt\" \\\n",
    "    --train-annotation='/home/ucprer/datasets/coco/annotations/instances_train2017.json' \\\n",
    "    --val-annotation='/home/ucprer/datasets/coco/annotations/instances_val2017.json' \\\n",
    "    --work-dir='work_root/' \\\n",
    "    --config='hyp.json' \\\n",
    "    --device='0,1' \\\n",
    "    --log-enable"
   ]
  },
  {
   "cell_type": "code",
   "execution_count": 1,
   "id": "da91f888",
   "metadata": {},
   "outputs": [
    {
     "ename": "SyntaxError",
     "evalue": "invalid syntax (203200876.py, line 1)",
     "output_type": "error",
     "traceback": [
      "\u001b[0;36m  File \u001b[0;32m\"/tmp/ipykernel_29306/203200876.py\"\u001b[0;36m, line \u001b[0;32m1\u001b[0m\n\u001b[0;31m    python runtrain.py \\\u001b[0m\n\u001b[0m                  ^\u001b[0m\n\u001b[0;31mSyntaxError\u001b[0m\u001b[0;31m:\u001b[0m invalid syntax\n"
     ]
    }
   ],
   "source": [
    "python runtrain.py \\\n",
    "    --train-list='/home/ucprer/python/mini_coco/train_abs.txt' \\\n",
    "    --val-list=\"/home/ucprer/python/mini_coco/val_abs.txt\" \\\n",
    "    --train-annotation='/home/ucprer/python/mini_coco/annotations/mini_instances_train2017.json' \\\n",
    "    --val-annotation='/home/ucprer/python/mini_coco/annotations/mini_instances_val2017.json' \\\n",
    "    --work-dir='work_root2/' \\\n",
    "    --config='hyp.json' \\\n",
    "    --device='0,1'"
   ]
  },
  {
   "cell_type": "code",
   "execution_count": 1,
   "id": "3629dc13",
   "metadata": {},
   "outputs": [
    {
     "name": "stdout",
     "output_type": "stream",
     "text": [
      "1\n"
     ]
    }
   ],
   "source": [
    "import torch\n",
    "import os\n",
    "# print(torch.cuda.is_available())\n",
    "os.environ['CUDA_VISIBLE_DEVICES'] = '1'\n",
    "print(torch.cuda.device_count())"
   ]
  }
 ],
 "metadata": {
  "kernelspec": {
   "display_name": "Python 3 (ipykernel)",
   "language": "python",
   "name": "python3"
  },
  "language_info": {
   "codemirror_mode": {
    "name": "ipython",
    "version": 3
   },
   "file_extension": ".py",
   "mimetype": "text/x-python",
   "name": "python",
   "nbconvert_exporter": "python",
   "pygments_lexer": "ipython3",
   "version": "3.7.13"
  },
  "vscode": {
   "interpreter": {
    "hash": "1ae008167ade592b5bf35ab7d466c3c93eed11fd312d88a5fd8d00b07091c1b7"
   }
  }
 },
 "nbformat": 4,
 "nbformat_minor": 5
}
