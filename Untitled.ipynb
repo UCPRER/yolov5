{
 "cells": [
  {
   "cell_type": "code",
   "execution_count": 10,
   "id": "46f46504",
   "metadata": {},
   "outputs": [
    {
     "name": "stdout",
     "output_type": "stream",
     "text": [
      "usage: runtrain.py [-h] [--work-dir WORK_DIR] [--device DEVICE] [--log-enable]\r\n",
      "                   [--label-type {voc,coco}] [--train-list TRAIN_LIST]\r\n",
      "                   [--val-list VAL_LIST] [--train-annotation TRAIN_ANNOTATION]\r\n",
      "                   [--val-annotation VAL_ANNOTATION] [--config CONFIG]\r\n",
      "\r\n",
      "optional arguments:\r\n",
      "  -h, --help            show this help message and exit\r\n",
      "  --work-dir WORK_DIR   where to store temp files\r\n",
      "  --device DEVICE       cpu or cuda device, i.e. 0 or 0,1,2,3 or cpu\r\n",
      "  --log-enable          output log to file\r\n",
      "  --label-type {voc,coco}\r\n",
      "                        dataset labeling method\r\n",
      "  --train-list TRAIN_LIST\r\n",
      "                        path of training set list\r\n",
      "  --val-list VAL_LIST   path of validation set list\r\n",
      "  --train-annotation TRAIN_ANNOTATION\r\n",
      "                        path of training set annotation\r\n",
      "  --val-annotation VAL_ANNOTATION\r\n",
      "                        path of validation set annotation\r\n",
      "  --config CONFIG       path of training config(Hyperparameters)\r\n"
     ]
    }
   ],
   "source": [
    "!python runtrain.py --help"
   ]
  },
  {
   "cell_type": "code",
   "execution_count": null,
   "id": "5bd2bdaf",
   "metadata": {},
   "outputs": [],
   "source": [
    "!python runtrain.py \\\n",
    "    --train-list='../../datasets/coco/train.txt' \\\n",
    "    --val-list=\"../../datasets/coco/val.txt\" \\\n",
    "    --train-annotation='../../datasets/coco/annotations/instances_train2017.json' \\\n",
    "    --val-annotation='../../datasets/coco/annotations/instances_val2017.json' \\\n",
    "    --log-enable \\\n",
    "    --work-dir='work_root/' \\\n",
    "    --device='cpu'"
   ]
  },
  {
   "cell_type": "code",
   "execution_count": 6,
   "id": "b4daaa04",
   "metadata": {},
   "outputs": [],
   "source": [
    "import sys\n",
    "\n",
    "out_file = open(\"noteout.txt\", \"w\")\n",
    "sys.stdout = out_file\n",
    "for i in range(1, 5):\n",
    "    print(i, end='\\r')"
   ]
  },
  {
   "cell_type": "code",
   "execution_count": 5,
   "id": "1f59c162",
   "metadata": {},
   "outputs": [
    {
     "name": "stdout",
     "output_type": "stream",
     "text": [
      "123"
     ]
    }
   ],
   "source": []
  },
  {
   "cell_type": "code",
   "execution_count": null,
   "id": "a862bfb3",
   "metadata": {},
   "outputs": [],
   "source": []
  }
 ],
 "metadata": {
  "kernelspec": {
   "display_name": "Python 3 (ipykernel)",
   "language": "python",
   "name": "python3"
  },
  "language_info": {
   "codemirror_mode": {
    "name": "ipython",
    "version": 3
   },
   "file_extension": ".py",
   "mimetype": "text/x-python",
   "name": "python",
   "nbconvert_exporter": "python",
   "pygments_lexer": "ipython3",
   "version": "3.7.13"
  },
  "vscode": {
   "interpreter": {
    "hash": "1ae008167ade592b5bf35ab7d466c3c93eed11fd312d88a5fd8d00b07091c1b7"
   }
  }
 },
 "nbformat": 4,
 "nbformat_minor": 5
}
