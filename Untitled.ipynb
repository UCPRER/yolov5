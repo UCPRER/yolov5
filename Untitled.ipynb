{
 "cells": [
  {
   "cell_type": "code",
   "execution_count": 39,
   "id": "46f46504",
   "metadata": {},
   "outputs": [
    {
     "name": "stdout",
     "output_type": "stream",
     "text": [
      "None\n"
     ]
    }
   ],
   "source": [
    "import os\n",
    "import torch.utils.cpp_extension\n",
    "print(torch.utils.cpp_extension.CUDA_HOME)"
   ]
  },
  {
   "cell_type": "code",
   "execution_count": 34,
   "id": "5bd2bdaf",
   "metadata": {},
   "outputs": [
    {
     "name": "stdout",
     "output_type": "stream",
     "text": [
      "convert coco annotations to yolo\n",
      "100%|████████████████████████████████| 118287/118287 [00:11<00:00, 10434.84it/s]\n",
      "convert coco annotations to yolo\n",
      "100%|█████████████████████████████████████| 5000/5000 [00:00<00:00, 9703.79it/s]\n",
      "\u001b[34m\u001b[1mtrain: \u001b[0mweights=yolov5s.pt, cfg=yolov5s.yaml, data=work_root/coco.yaml, hyp=data/hyps/hyp.scratch-low.yaml, epochs=300, batch_size=34, imgsz=640, rect=False, resume=False, nosave=False, noval=False, noautoanchor=False, noplots=False, evolve=None, bucket=, cache=None, image_weights=False, device=0,1, multi_scale=True, single_cls=False, optimizer=SGD, sync_bn=False, workers=8, project=work_root, name=result, exist_ok=False, quad=False, cos_lr=False, label_smoothing=0.0, patience=100, freeze=[0], save_period=-1, local_rank=-1, is_coco=True, entity=None, upload_dataset=False, bbox_interval=-1, artifact_alias=latest, img_size=640\n",
      "Command 'git fetch && git config --get remote.origin.url' timed out after 5 seconds\n",
      "YOLOv5 🚀 v6.1-269-g7e3331d Python-3.7.13 torch-1.11.0+cu102 CUDA:0 (GeForce RTX 2080 Ti, 11019MiB)\n",
      "                                                             CUDA:1 (GeForce RTX 2080 Ti, 11019MiB)\n",
      "\n",
      "\u001b[34m\u001b[1mhyperparameters: \u001b[0mlr0=0.01, lrf=0.01, momentum=0.937, weight_decay=0.0005, warmup_epochs=3.0, warmup_momentum=0.8, warmup_bias_lr=0.1, box=0.05, cls=0.5, cls_pw=1.0, obj=1.0, obj_pw=1.0, iou_t=0.2, anchor_t=4.0, fl_gamma=0.0, hsv_h=0.015, hsv_s=0.7, hsv_v=0.4, degrees=0.0, translate=0.1, scale=0.5, shear=0.0, perspective=0.0, flipud=0.0, fliplr=0.5, mosaic=1.0, mixup=0.0, copy_paste=0.0\n",
      "\u001b[34m\u001b[1mWeights & Biases: \u001b[0mrun 'pip install wandb' to automatically track and visualize YOLOv5 🚀 runs (RECOMMENDED)\n",
      "\u001b[34m\u001b[1mTensorBoard: \u001b[0mStart with 'tensorboard --logdir work_root', view at http://localhost:6006/\n",
      "\n",
      "                 from  n    params  module                                  arguments                     \n",
      "  0                -1  1      3520  models.common.Conv                      [3, 32, 6, 2, 2]              \n",
      "  1                -1  1     18560  models.common.Conv                      [32, 64, 3, 2]                \n",
      "  2                -1  1     18816  models.common.C3                        [64, 64, 1]                   \n",
      "  3                -1  1     73984  models.common.Conv                      [64, 128, 3, 2]               \n",
      "  4                -1  2    115712  models.common.C3                        [128, 128, 2]                 \n",
      "  5                -1  1    295424  models.common.Conv                      [128, 256, 3, 2]              \n",
      "  6                -1  3    625152  models.common.C3                        [256, 256, 3]                 \n",
      "  7                -1  1   1180672  models.common.Conv                      [256, 512, 3, 2]              \n",
      "  8                -1  1   1182720  models.common.C3                        [512, 512, 1]                 \n",
      "  9                -1  1    656896  models.common.SPPF                      [512, 512, 5]                 \n",
      " 10                -1  1    131584  models.common.Conv                      [512, 256, 1, 1]              \n",
      " 11                -1  1         0  torch.nn.modules.upsampling.Upsample    [None, 2, 'nearest']          \n",
      " 12           [-1, 6]  1         0  models.common.Concat                    [1]                           \n",
      " 13                -1  1    361984  models.common.C3                        [512, 256, 1, False]          \n",
      " 14                -1  1     33024  models.common.Conv                      [256, 128, 1, 1]              \n",
      " 15                -1  1         0  torch.nn.modules.upsampling.Upsample    [None, 2, 'nearest']          \n",
      " 16           [-1, 4]  1         0  models.common.Concat                    [1]                           \n",
      " 17                -1  1     90880  models.common.C3                        [256, 128, 1, False]          \n",
      " 18                -1  1    147712  models.common.Conv                      [128, 128, 3, 2]              \n",
      " 19          [-1, 14]  1         0  models.common.Concat                    [1]                           \n",
      " 20                -1  1    296448  models.common.C3                        [256, 256, 1, False]          \n",
      " 21                -1  1    590336  models.common.Conv                      [256, 256, 3, 2]              \n",
      " 22          [-1, 10]  1         0  models.common.Concat                    [1]                           \n",
      " 23                -1  1   1182720  models.common.C3                        [512, 512, 1, False]          \n",
      " 24      [17, 20, 23]  1    229245  models.yolo.Detect                      [80, [[10, 13, 16, 30, 33, 23], [30, 61, 62, 45, 59, 119], [116, 90, 156, 198, 373, 326]], [128, 256, 512]]\n",
      "YOLOv5s summary: 270 layers, 7235389 parameters, 7235389 gradients\n",
      "\n",
      "Transferred 348/349 items from yolov5s.pt\n",
      "\u001b[34m\u001b[1mAMP: \u001b[0mchecks passed ✅\n",
      "Scaled weight_decay = 0.00053125\n",
      "\u001b[34m\u001b[1moptimizer:\u001b[0m SGD with parameter groups 57 weight (no decay), 60 weight, 60 bias\n",
      "WARNING: DP not recommended, use torch.distributed.run for best DDP Multi-GPU results.\n",
      "See Multi-GPU Tutorial at https://github.com/ultralytics/yolov5/issues/475 to get started.\n",
      "\u001b[34m\u001b[1mtrain: \u001b[0mScanning '../../datasets/coco/train.cache' images and labels... 118287 fo\u001b[0m\n",
      "\u001b[34m\u001b[1mtrain: \u001b[0mWARNING: /home/ucprer/datasets/coco/images/train2017/000000099844.jpg: 2 duplicate labels removed\n",
      "\u001b[34m\u001b[1mtrain: \u001b[0mWARNING: /home/ucprer/datasets/coco/images/train2017/000000201706.jpg: 1 duplicate labels removed\n",
      "\u001b[34m\u001b[1mtrain: \u001b[0mWARNING: /home/ucprer/datasets/coco/images/train2017/000000214087.jpg: 1 duplicate labels removed\n",
      "\u001b[34m\u001b[1mtrain: \u001b[0mWARNING: /home/ucprer/datasets/coco/images/train2017/000000522365.jpg: 1 duplicate labels removed\n",
      "\u001b[34m\u001b[1mval: \u001b[0mScanning '../../datasets/coco/val.cache' images and labels... 5000 found, 0\u001b[0m\n",
      "Plotting labels to work_root/result3/labels.jpg... \n",
      "\n",
      "\u001b[34m\u001b[1mAutoAnchor: \u001b[0m4.42 anchors/target, 0.994 Best Possible Recall (BPR). Current anchors are a good fit to dataset ✅\n",
      "Image sizes 640 train, 640 val\n",
      "Using 4 dataloader workers\n",
      "Logging results to \u001b[1mwork_root/result3\u001b[0m\n",
      "Starting training for 300 epochs...\n",
      "\n",
      "     Epoch   gpu_mem       box       obj       cls    labels  img_size\n",
      "     0/299     8.91G   0.04744   0.08455   0.02178       467       672:  98%|███^C\n",
      "     0/299     8.91G   0.04744   0.08455   0.02178       467       672:  98%|███\n",
      "Traceback (most recent call last):\n",
      "  File \"runtrain.py\", line 81, in <module>\n",
      "    main()\n",
      "  File \"runtrain.py\", line 77, in main\n",
      "    train.run(data=root / \"coco.yaml\", cfg='yolov5s.yaml', is_coco=coco, project=root, name=\"result\", device=args.device, **hyp)\n",
      "  File \"/home/ucprer/python/yolov5/train.py\", line 666, in run\n",
      "    main(opt)\n",
      "  File \"/home/ucprer/python/yolov5/train.py\", line 567, in main\n",
      "    train(opt.hyp, opt, device, callbacks)\n",
      "  File \"/home/ucprer/python/yolov5/train.py\", line 327, in train\n",
      "    for i, (imgs, targets, paths, _) in pbar:  # batch -------------------------------------------------------------\n",
      "  File \"/home/ucprer/anaconda3/envs/python3.7/lib/python3.7/site-packages/tqdm/std.py\", line 1195, in __iter__\n",
      "    for obj in iterable:\n",
      "  File \"/home/ucprer/python/yolov5/utils/dataloaders.py\", line 160, in __iter__\n",
      "    yield next(self.iterator)\n",
      "  File \"/home/ucprer/anaconda3/envs/python3.7/lib/python3.7/site-packages/torch/utils/data/dataloader.py\", line 530, in __next__\n",
      "    data = self._next_data()\n",
      "  File \"/home/ucprer/anaconda3/envs/python3.7/lib/python3.7/site-packages/torch/utils/data/dataloader.py\", line 1207, in _next_data\n",
      "    idx, data = self._get_data()\n",
      "  File \"/home/ucprer/anaconda3/envs/python3.7/lib/python3.7/site-packages/torch/utils/data/dataloader.py\", line 1163, in _get_data\n",
      "    success, data = self._try_get_data()\n",
      "  File \"/home/ucprer/anaconda3/envs/python3.7/lib/python3.7/site-packages/torch/utils/data/dataloader.py\", line 1011, in _try_get_data\n",
      "    data = self._data_queue.get(timeout=timeout)\n",
      "  File \"/home/ucprer/anaconda3/envs/python3.7/lib/python3.7/queue.py\", line 179, in get\n",
      "    self.not_empty.wait(remaining)\n",
      "  File \"/home/ucprer/anaconda3/envs/python3.7/lib/python3.7/threading.py\", line 300, in wait\n",
      "    gotit = waiter.acquire(True, timeout)\n",
      "KeyboardInterrupt\n"
     ]
    }
   ],
   "source": [
    "python runtrain.py \\\n",
    "    --train-list='/home/ucprer/datasets/coco/train.txt' \\\n",
    "    --val-list=\"/home/ucprer/datasets/coco/val.txt\" \\\n",
    "    --train-annotation='/home/ucprer/datasets/coco/annotations/instances_train2017.json' \\\n",
    "    --val-annotation='/home/ucprer/datasets/coco/annotations/instances_val2017.json' \\\n",
    "    --work-dir='work_root/' \\\n",
    "    --config='hyp.json' \\\n",
    "    --device='0,1'"
   ]
  },
  {
   "cell_type": "code",
   "execution_count": null,
   "id": "3629dc13",
   "metadata": {},
   "outputs": [],
   "source": []
  }
 ],
 "metadata": {
  "kernelspec": {
   "display_name": "Python 3 (ipykernel)",
   "language": "python",
   "name": "python3"
  },
  "language_info": {
   "codemirror_mode": {
    "name": "ipython",
    "version": 3
   },
   "file_extension": ".py",
   "mimetype": "text/x-python",
   "name": "python",
   "nbconvert_exporter": "python",
   "pygments_lexer": "ipython3",
   "version": "3.7.13"
  },
  "vscode": {
   "interpreter": {
    "hash": "1ae008167ade592b5bf35ab7d466c3c93eed11fd312d88a5fd8d00b07091c1b7"
   }
  }
 },
 "nbformat": 4,
 "nbformat_minor": 5
}
