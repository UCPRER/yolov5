{
 "cells": [
  {
   "cell_type": "code",
   "execution_count": 8,
   "id": "5191a0ca",
   "metadata": {},
   "outputs": [
    {
     "name": "stdout",
     "output_type": "stream",
     "text": [
      "sb\n",
      "cpu\n"
     ]
    }
   ],
   "source": [
    "import torch\n",
    "if torch.cuda.is_available():\n",
    "    print(\"sb\")\n",
    "a = torch.randn(2, 3)\n",
    "print(a.device)"
   ]
  },
  {
   "cell_type": "code",
   "execution_count": 3,
   "id": "67f9f6a5",
   "metadata": {},
   "outputs": [],
   "source": [
    "def f(x):\n",
    "    print(x + 2)\n",
    "    for i in range(1, 3):\n",
    "        print(\"sb\")"
   ]
  },
  {
   "cell_type": "code",
   "execution_count": 4,
   "id": "aac6a2d4",
   "metadata": {},
   "outputs": [
    {
     "name": "stdout",
     "output_type": "stream",
     "text": [
      "14\n",
      "sb\n",
      "sb\n"
     ]
    }
   ],
   "source": [
    "f(x=12)"
   ]
  },
  {
   "cell_type": "code",
   "execution_count": 4,
   "id": "1deefc3f",
   "metadata": {},
   "outputs": [
    {
     "ename": "TypeError",
     "evalue": "Cannot interpret '3' as a data type",
     "output_type": "error",
     "traceback": [
      "\u001b[0;31m---------------------------------------------------------------------------\u001b[0m",
      "\u001b[0;31mTypeError\u001b[0m                                 Traceback (most recent call last)",
      "\u001b[0;32m/tmp/ipykernel_19541/3039942876.py\u001b[0m in \u001b[0;36m<module>\u001b[0;34m\u001b[0m\n\u001b[0;32m----> 1\u001b[0;31m \u001b[0mnumpy\u001b[0m\u001b[0;34m.\u001b[0m\u001b[0marray\u001b[0m\u001b[0;34m(\u001b[0m\u001b[0;36m2\u001b[0m\u001b[0;34m,\u001b[0m\u001b[0;36m3\u001b[0m\u001b[0;34m)\u001b[0m\u001b[0;34m\u001b[0m\u001b[0;34m\u001b[0m\u001b[0m\n\u001b[0m",
      "\u001b[0;31mTypeError\u001b[0m: Cannot interpret '3' as a data type"
     ]
    }
   ],
   "source": [
    "numpy.array(2,3)"
   ]
  },
  {
   "cell_type": "code",
   "execution_count": null,
   "id": "905b4ff0",
   "metadata": {},
   "outputs": [],
   "source": []
  }
 ],
 "metadata": {
  "kernelspec": {
   "display_name": "Python 3 (ipykernel)",
   "language": "python",
   "name": "python3"
  },
  "language_info": {
   "codemirror_mode": {
    "name": "ipython",
    "version": 3
   },
   "file_extension": ".py",
   "mimetype": "text/x-python",
   "name": "python",
   "nbconvert_exporter": "python",
   "pygments_lexer": "ipython3",
   "version": "3.7.13"
  }
 },
 "nbformat": 4,
 "nbformat_minor": 5
}
